{
 "cells": [
  {
   "cell_type": "code",
   "execution_count": 1,
   "metadata": {},
   "outputs": [],
   "source": [
    "import pathlib\n",
    "DATA_FOLDER = pathlib.Path.cwd().parent.parent / \"data\""
   ]
  },
  {
   "cell_type": "code",
   "execution_count": 2,
   "metadata": {},
   "outputs": [],
   "source": [
    "x = pathlib.Path.cwd()\n",
    "headlines = DATA_FOLDER / 'headlines.txt'"
   ]
  },
  {
   "cell_type": "code",
   "execution_count": 3,
   "metadata": {},
   "outputs": [
    {
     "data": {
      "text/plain": "                                              Headline\n0                             Zika Outbreak Hits Miami\n1                      Could Zika Reach New York City?\n2                    First Case of Zika in Miami Beach\n3              Mystery Virus Spreads in Recife, Brazil\n4              Dallas man comes down with case of Zika\n..                                                 ...\n645  Rumors about Rabies spreading in Jerusalem hav...\n646              More Zika patients reported in Indang\n647  Suva authorities confirmed the spread of Rotav...\n648         More Zika patients reported in Bella Vista\n649                     Zika Outbreak in Wichita Falls\n\n[650 rows x 1 columns]",
      "text/html": "<div>\n<style scoped>\n    .dataframe tbody tr th:only-of-type {\n        vertical-align: middle;\n    }\n\n    .dataframe tbody tr th {\n        vertical-align: top;\n    }\n\n    .dataframe thead th {\n        text-align: right;\n    }\n</style>\n<table border=\"1\" class=\"dataframe\">\n  <thead>\n    <tr style=\"text-align: right;\">\n      <th></th>\n      <th>Headline</th>\n    </tr>\n  </thead>\n  <tbody>\n    <tr>\n      <th>0</th>\n      <td>Zika Outbreak Hits Miami</td>\n    </tr>\n    <tr>\n      <th>1</th>\n      <td>Could Zika Reach New York City?</td>\n    </tr>\n    <tr>\n      <th>2</th>\n      <td>First Case of Zika in Miami Beach</td>\n    </tr>\n    <tr>\n      <th>3</th>\n      <td>Mystery Virus Spreads in Recife, Brazil</td>\n    </tr>\n    <tr>\n      <th>4</th>\n      <td>Dallas man comes down with case of Zika</td>\n    </tr>\n    <tr>\n      <th>...</th>\n      <td>...</td>\n    </tr>\n    <tr>\n      <th>645</th>\n      <td>Rumors about Rabies spreading in Jerusalem hav...</td>\n    </tr>\n    <tr>\n      <th>646</th>\n      <td>More Zika patients reported in Indang</td>\n    </tr>\n    <tr>\n      <th>647</th>\n      <td>Suva authorities confirmed the spread of Rotav...</td>\n    </tr>\n    <tr>\n      <th>648</th>\n      <td>More Zika patients reported in Bella Vista</td>\n    </tr>\n    <tr>\n      <th>649</th>\n      <td>Zika Outbreak in Wichita Falls</td>\n    </tr>\n  </tbody>\n</table>\n<p>650 rows × 1 columns</p>\n</div>"
     },
     "execution_count": 3,
     "metadata": {},
     "output_type": "execute_result"
    }
   ],
   "source": [
    "import pandas as pd\n",
    "df = pd.read_csv(headlines, delimiter='+', names=[\"Headline\"])\n",
    "df"
   ]
  },
  {
   "cell_type": "code",
   "execution_count": 4,
   "metadata": {},
   "outputs": [
    {
     "data": {
      "text/plain": "                                              Headline           City\n0                             Zika Outbreak Hits Miami          Miami\n1                      Could Zika Reach New York City?  New York City\n2                    First Case of Zika in Miami Beach    Miami Beach\n3              Mystery Virus Spreads in Recife, Brazil         Recife\n4              Dallas man comes down with case of Zika         Dallas\n..                                                 ...            ...\n645  Rumors about Rabies spreading in Jerusalem hav...      Jerusalem\n646              More Zika patients reported in Indang         Indang\n647  Suva authorities confirmed the spread of Rotav...           Suva\n648         More Zika patients reported in Bella Vista    Bella Vista\n649                     Zika Outbreak in Wichita Falls  Wichita Falls\n\n[604 rows x 2 columns]",
      "text/html": "<div>\n<style scoped>\n    .dataframe tbody tr th:only-of-type {\n        vertical-align: middle;\n    }\n\n    .dataframe tbody tr th {\n        vertical-align: top;\n    }\n\n    .dataframe thead th {\n        text-align: right;\n    }\n</style>\n<table border=\"1\" class=\"dataframe\">\n  <thead>\n    <tr style=\"text-align: right;\">\n      <th></th>\n      <th>Headline</th>\n      <th>City</th>\n    </tr>\n  </thead>\n  <tbody>\n    <tr>\n      <th>0</th>\n      <td>Zika Outbreak Hits Miami</td>\n      <td>Miami</td>\n    </tr>\n    <tr>\n      <th>1</th>\n      <td>Could Zika Reach New York City?</td>\n      <td>New York City</td>\n    </tr>\n    <tr>\n      <th>2</th>\n      <td>First Case of Zika in Miami Beach</td>\n      <td>Miami Beach</td>\n    </tr>\n    <tr>\n      <th>3</th>\n      <td>Mystery Virus Spreads in Recife, Brazil</td>\n      <td>Recife</td>\n    </tr>\n    <tr>\n      <th>4</th>\n      <td>Dallas man comes down with case of Zika</td>\n      <td>Dallas</td>\n    </tr>\n    <tr>\n      <th>...</th>\n      <td>...</td>\n      <td>...</td>\n    </tr>\n    <tr>\n      <th>645</th>\n      <td>Rumors about Rabies spreading in Jerusalem hav...</td>\n      <td>Jerusalem</td>\n    </tr>\n    <tr>\n      <th>646</th>\n      <td>More Zika patients reported in Indang</td>\n      <td>Indang</td>\n    </tr>\n    <tr>\n      <th>647</th>\n      <td>Suva authorities confirmed the spread of Rotav...</td>\n      <td>Suva</td>\n    </tr>\n    <tr>\n      <th>648</th>\n      <td>More Zika patients reported in Bella Vista</td>\n      <td>Bella Vista</td>\n    </tr>\n    <tr>\n      <th>649</th>\n      <td>Zika Outbreak in Wichita Falls</td>\n      <td>Wichita Falls</td>\n    </tr>\n  </tbody>\n</table>\n<p>604 rows × 2 columns</p>\n</div>"
     },
     "execution_count": 4,
     "metadata": {},
     "output_type": "execute_result"
    }
   ],
   "source": [
    "import locationextract.location_extract as le\n",
    "\n",
    "city = le.create_city_finder()\n",
    "df[\"City\"] = df[\"Headline\"].apply(lambda x: city.find(x))\n",
    "df.dropna(subset=[\"City\"], inplace=True)\n",
    "df.drop_duplicates(inplace=True)\n",
    "df"
   ]
  },
  {
   "cell_type": "code",
   "execution_count": 5,
   "metadata": {
    "pycharm": {
     "name": "#%%\n"
    }
   },
   "outputs": [
    {
     "data": {
      "text/plain": "                                              Headline           City  \\\n0                             Zika Outbreak Hits Miami          Miami   \n1                      Could Zika Reach New York City?  New York City   \n2                    First Case of Zika in Miami Beach    Miami Beach   \n3              Mystery Virus Spreads in Recife, Brazil         Recife   \n4              Dallas man comes down with case of Zika         Dallas   \n..                                                 ...            ...   \n645  Rumors about Rabies spreading in Jerusalem hav...      Jerusalem   \n646              More Zika patients reported in Indang         Indang   \n647  Suva authorities confirmed the spread of Rotav...           Suva   \n648         More Zika patients reported in Bella Vista    Bella Vista   \n649                     Zika Outbreak in Wichita Falls  Wichita Falls   \n\n    Country Code  Latitude  Longitude  \n0             US  25.77427  -80.19366  \n1             US  40.71427  -74.00597  \n2             US  25.79065  -80.13005  \n3             BR  -8.05389  -34.88111  \n4             US  32.78306  -96.80667  \n..           ...       ...        ...  \n645           IL  31.76904   35.21633  \n646           PH  14.19528  120.87694  \n647           FJ -18.14161  178.44149  \n648           DO  18.45539  -69.94540  \n649           US  33.91371  -98.49339  \n\n[604 rows x 5 columns]",
      "text/html": "<div>\n<style scoped>\n    .dataframe tbody tr th:only-of-type {\n        vertical-align: middle;\n    }\n\n    .dataframe tbody tr th {\n        vertical-align: top;\n    }\n\n    .dataframe thead th {\n        text-align: right;\n    }\n</style>\n<table border=\"1\" class=\"dataframe\">\n  <thead>\n    <tr style=\"text-align: right;\">\n      <th></th>\n      <th>Headline</th>\n      <th>City</th>\n      <th>Country Code</th>\n      <th>Latitude</th>\n      <th>Longitude</th>\n    </tr>\n  </thead>\n  <tbody>\n    <tr>\n      <th>0</th>\n      <td>Zika Outbreak Hits Miami</td>\n      <td>Miami</td>\n      <td>US</td>\n      <td>25.77427</td>\n      <td>-80.19366</td>\n    </tr>\n    <tr>\n      <th>1</th>\n      <td>Could Zika Reach New York City?</td>\n      <td>New York City</td>\n      <td>US</td>\n      <td>40.71427</td>\n      <td>-74.00597</td>\n    </tr>\n    <tr>\n      <th>2</th>\n      <td>First Case of Zika in Miami Beach</td>\n      <td>Miami Beach</td>\n      <td>US</td>\n      <td>25.79065</td>\n      <td>-80.13005</td>\n    </tr>\n    <tr>\n      <th>3</th>\n      <td>Mystery Virus Spreads in Recife, Brazil</td>\n      <td>Recife</td>\n      <td>BR</td>\n      <td>-8.05389</td>\n      <td>-34.88111</td>\n    </tr>\n    <tr>\n      <th>4</th>\n      <td>Dallas man comes down with case of Zika</td>\n      <td>Dallas</td>\n      <td>US</td>\n      <td>32.78306</td>\n      <td>-96.80667</td>\n    </tr>\n    <tr>\n      <th>...</th>\n      <td>...</td>\n      <td>...</td>\n      <td>...</td>\n      <td>...</td>\n      <td>...</td>\n    </tr>\n    <tr>\n      <th>645</th>\n      <td>Rumors about Rabies spreading in Jerusalem hav...</td>\n      <td>Jerusalem</td>\n      <td>IL</td>\n      <td>31.76904</td>\n      <td>35.21633</td>\n    </tr>\n    <tr>\n      <th>646</th>\n      <td>More Zika patients reported in Indang</td>\n      <td>Indang</td>\n      <td>PH</td>\n      <td>14.19528</td>\n      <td>120.87694</td>\n    </tr>\n    <tr>\n      <th>647</th>\n      <td>Suva authorities confirmed the spread of Rotav...</td>\n      <td>Suva</td>\n      <td>FJ</td>\n      <td>-18.14161</td>\n      <td>178.44149</td>\n    </tr>\n    <tr>\n      <th>648</th>\n      <td>More Zika patients reported in Bella Vista</td>\n      <td>Bella Vista</td>\n      <td>DO</td>\n      <td>18.45539</td>\n      <td>-69.94540</td>\n    </tr>\n    <tr>\n      <th>649</th>\n      <td>Zika Outbreak in Wichita Falls</td>\n      <td>Wichita Falls</td>\n      <td>US</td>\n      <td>33.91371</td>\n      <td>-98.49339</td>\n    </tr>\n  </tbody>\n</table>\n<p>604 rows × 5 columns</p>\n</div>"
     },
     "execution_count": 5,
     "metadata": {},
     "output_type": "execute_result"
    }
   ],
   "source": [
    "from locationextract.city import CityFactory\n",
    "creator = CityFactory()\n",
    "(_, df[\"Country Code\"], df[\"Latitude\"], df[\"Longitude\"]) = zip(*df[\"City\"].apply(lambda x : creator.from_name(x).df_data()))\n",
    "df"
   ]
  },
  {
   "cell_type": "code",
   "execution_count": 6,
   "metadata": {},
   "outputs": [
    {
     "data": {
      "text/plain": "                                              Headline           City  \\\n0                             Zika Outbreak Hits Miami          Miami   \n1                      Could Zika Reach New York City?  New York City   \n2                    First Case of Zika in Miami Beach    Miami Beach   \n3              Mystery Virus Spreads in Recife, Brazil         Recife   \n4              Dallas man comes down with case of Zika         Dallas   \n..                                                 ...            ...   \n645  Rumors about Rabies spreading in Jerusalem hav...      Jerusalem   \n646              More Zika patients reported in Indang         Indang   \n647  Suva authorities confirmed the spread of Rotav...           Suva   \n648         More Zika patients reported in Bella Vista    Bella Vista   \n649                     Zika Outbreak in Wichita Falls  Wichita Falls   \n\n    Country Code  Latitude  Longitude  \n0             US  25.77427  -80.19366  \n1             US  40.71427  -74.00597  \n2             US  25.79065  -80.13005  \n3             BR  -8.05389  -34.88111  \n4             US  32.78306  -96.80667  \n..           ...       ...        ...  \n645           IL  31.76904   35.21633  \n646           PH  14.19528  120.87694  \n647           FJ -18.14161  178.44149  \n648           DO  18.45539  -69.94540  \n649           US  33.91371  -98.49339  \n\n[604 rows x 5 columns]",
      "text/html": "<div>\n<style scoped>\n    .dataframe tbody tr th:only-of-type {\n        vertical-align: middle;\n    }\n\n    .dataframe tbody tr th {\n        vertical-align: top;\n    }\n\n    .dataframe thead th {\n        text-align: right;\n    }\n</style>\n<table border=\"1\" class=\"dataframe\">\n  <thead>\n    <tr style=\"text-align: right;\">\n      <th></th>\n      <th>Headline</th>\n      <th>City</th>\n      <th>Country Code</th>\n      <th>Latitude</th>\n      <th>Longitude</th>\n    </tr>\n  </thead>\n  <tbody>\n    <tr>\n      <th>0</th>\n      <td>Zika Outbreak Hits Miami</td>\n      <td>Miami</td>\n      <td>US</td>\n      <td>25.77427</td>\n      <td>-80.19366</td>\n    </tr>\n    <tr>\n      <th>1</th>\n      <td>Could Zika Reach New York City?</td>\n      <td>New York City</td>\n      <td>US</td>\n      <td>40.71427</td>\n      <td>-74.00597</td>\n    </tr>\n    <tr>\n      <th>2</th>\n      <td>First Case of Zika in Miami Beach</td>\n      <td>Miami Beach</td>\n      <td>US</td>\n      <td>25.79065</td>\n      <td>-80.13005</td>\n    </tr>\n    <tr>\n      <th>3</th>\n      <td>Mystery Virus Spreads in Recife, Brazil</td>\n      <td>Recife</td>\n      <td>BR</td>\n      <td>-8.05389</td>\n      <td>-34.88111</td>\n    </tr>\n    <tr>\n      <th>4</th>\n      <td>Dallas man comes down with case of Zika</td>\n      <td>Dallas</td>\n      <td>US</td>\n      <td>32.78306</td>\n      <td>-96.80667</td>\n    </tr>\n    <tr>\n      <th>...</th>\n      <td>...</td>\n      <td>...</td>\n      <td>...</td>\n      <td>...</td>\n      <td>...</td>\n    </tr>\n    <tr>\n      <th>645</th>\n      <td>Rumors about Rabies spreading in Jerusalem hav...</td>\n      <td>Jerusalem</td>\n      <td>IL</td>\n      <td>31.76904</td>\n      <td>35.21633</td>\n    </tr>\n    <tr>\n      <th>646</th>\n      <td>More Zika patients reported in Indang</td>\n      <td>Indang</td>\n      <td>PH</td>\n      <td>14.19528</td>\n      <td>120.87694</td>\n    </tr>\n    <tr>\n      <th>647</th>\n      <td>Suva authorities confirmed the spread of Rotav...</td>\n      <td>Suva</td>\n      <td>FJ</td>\n      <td>-18.14161</td>\n      <td>178.44149</td>\n    </tr>\n    <tr>\n      <th>648</th>\n      <td>More Zika patients reported in Bella Vista</td>\n      <td>Bella Vista</td>\n      <td>DO</td>\n      <td>18.45539</td>\n      <td>-69.94540</td>\n    </tr>\n    <tr>\n      <th>649</th>\n      <td>Zika Outbreak in Wichita Falls</td>\n      <td>Wichita Falls</td>\n      <td>US</td>\n      <td>33.91371</td>\n      <td>-98.49339</td>\n    </tr>\n  </tbody>\n</table>\n<p>604 rows × 5 columns</p>\n</div>"
     },
     "execution_count": 6,
     "metadata": {},
     "output_type": "execute_result"
    }
   ],
   "source": [
    "df"
   ]
  }
 ],
 "metadata": {
  "kernelspec": {
   "display_name": "disease",
   "language": "python",
   "name": "disease"
  },
  "language_info": {
   "codemirror_mode": {
    "name": "ipython",
    "version": 3
   },
   "file_extension": ".py",
   "mimetype": "text/x-python",
   "name": "python",
   "nbconvert_exporter": "python",
   "pygments_lexer": "ipython3",
   "version": "3.8.6"
  }
 },
 "nbformat": 4,
 "nbformat_minor": 1
}