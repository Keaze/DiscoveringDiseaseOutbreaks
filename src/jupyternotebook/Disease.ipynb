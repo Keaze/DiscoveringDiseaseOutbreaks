{
 "cells": [
  {
   "cell_type": "code",
   "execution_count": 1,
   "metadata": {},
   "outputs": [
    {
     "data": {
      "text/plain": "['Berlin', 'Germany']"
     },
     "execution_count": 1,
     "metadata": {},
     "output_type": "execute_result"
    }
   ],
   "source": [
    "import locationextract.location_extract as le\n",
    "le.extract_locations(\"Berlin Germany\")"
   ]
  },
  {
   "cell_type": "code",
   "execution_count": 2,
   "metadata": {},
   "outputs": [
    {
     "data": {
      "text/plain": "WindowsPath('C:/dev/python/outbreaks/data/headlines.txt')"
     },
     "execution_count": 2,
     "metadata": {},
     "output_type": "execute_result"
    }
   ],
   "source": [
    "import pathlib\n",
    "x = pathlib.Path.cwd()\n",
    "headlines = x.parent.parent / 'data' / 'headlines.txt'\n",
    "headlines"
   ]
  },
  {
   "cell_type": "code",
   "execution_count": 3,
   "metadata": {},
   "outputs": [
    {
     "data": {
      "text/plain": "                                              Headline\n0                             Zika Outbreak Hits Miami\n1                      Could Zika Reach New York City?\n2                    First Case of Zika in Miami Beach\n3              Mystery Virus Spreads in Recife, Brazil\n4              Dallas man comes down with case of Zika\n..                                                 ...\n645  Rumors about Rabies spreading in Jerusalem hav...\n646              More Zika patients reported in Indang\n647  Suva authorities confirmed the spread of Rotav...\n648         More Zika patients reported in Bella Vista\n649                     Zika Outbreak in Wichita Falls\n\n[650 rows x 1 columns]",
      "text/html": "<div>\n<style scoped>\n    .dataframe tbody tr th:only-of-type {\n        vertical-align: middle;\n    }\n\n    .dataframe tbody tr th {\n        vertical-align: top;\n    }\n\n    .dataframe thead th {\n        text-align: right;\n    }\n</style>\n<table border=\"1\" class=\"dataframe\">\n  <thead>\n    <tr style=\"text-align: right;\">\n      <th></th>\n      <th>Headline</th>\n    </tr>\n  </thead>\n  <tbody>\n    <tr>\n      <th>0</th>\n      <td>Zika Outbreak Hits Miami</td>\n    </tr>\n    <tr>\n      <th>1</th>\n      <td>Could Zika Reach New York City?</td>\n    </tr>\n    <tr>\n      <th>2</th>\n      <td>First Case of Zika in Miami Beach</td>\n    </tr>\n    <tr>\n      <th>3</th>\n      <td>Mystery Virus Spreads in Recife, Brazil</td>\n    </tr>\n    <tr>\n      <th>4</th>\n      <td>Dallas man comes down with case of Zika</td>\n    </tr>\n    <tr>\n      <th>...</th>\n      <td>...</td>\n    </tr>\n    <tr>\n      <th>645</th>\n      <td>Rumors about Rabies spreading in Jerusalem hav...</td>\n    </tr>\n    <tr>\n      <th>646</th>\n      <td>More Zika patients reported in Indang</td>\n    </tr>\n    <tr>\n      <th>647</th>\n      <td>Suva authorities confirmed the spread of Rotav...</td>\n    </tr>\n    <tr>\n      <th>648</th>\n      <td>More Zika patients reported in Bella Vista</td>\n    </tr>\n    <tr>\n      <th>649</th>\n      <td>Zika Outbreak in Wichita Falls</td>\n    </tr>\n  </tbody>\n</table>\n<p>650 rows × 1 columns</p>\n</div>"
     },
     "execution_count": 3,
     "metadata": {},
     "output_type": "execute_result"
    }
   ],
   "source": [
    "import pandas as pd\n",
    "df = pd.read_csv(headlines, delimiter='+', names=[\"Headline\"])\n",
    "df"
   ]
  },
  {
   "cell_type": "code",
   "execution_count": 4,
   "metadata": {},
   "outputs": [
    {
     "data": {
      "text/plain": "                                              Headline           Cities  \\\n0                             Zika Outbreak Hits Miami          [Miami]   \n1                      Could Zika Reach New York City?  [New York City]   \n2                    First Case of Zika in Miami Beach    [Miami Beach]   \n3              Mystery Virus Spreads in Recife, Brazil         [Recife]   \n4              Dallas man comes down with case of Zika         [Dallas]   \n..                                                 ...              ...   \n645  Rumors about Rabies spreading in Jerusalem hav...      [Jerusalem]   \n646              More Zika patients reported in Indang         [Indang]   \n647  Suva authorities confirmed the spread of Rotav...           [Suva]   \n648         More Zika patients reported in Bella Vista    [Bella Vista]   \n649                     Zika Outbreak in Wichita Falls  [Wichita Falls]   \n\n      Country  \n0          []  \n1          []  \n2          []  \n3    [Brazil]  \n4          []  \n..        ...  \n645        []  \n646        []  \n647        []  \n648        []  \n649        []  \n\n[650 rows x 3 columns]",
      "text/html": "<div>\n<style scoped>\n    .dataframe tbody tr th:only-of-type {\n        vertical-align: middle;\n    }\n\n    .dataframe tbody tr th {\n        vertical-align: top;\n    }\n\n    .dataframe thead th {\n        text-align: right;\n    }\n</style>\n<table border=\"1\" class=\"dataframe\">\n  <thead>\n    <tr style=\"text-align: right;\">\n      <th></th>\n      <th>Headline</th>\n      <th>Cities</th>\n      <th>Country</th>\n    </tr>\n  </thead>\n  <tbody>\n    <tr>\n      <th>0</th>\n      <td>Zika Outbreak Hits Miami</td>\n      <td>[Miami]</td>\n      <td>[]</td>\n    </tr>\n    <tr>\n      <th>1</th>\n      <td>Could Zika Reach New York City?</td>\n      <td>[New York City]</td>\n      <td>[]</td>\n    </tr>\n    <tr>\n      <th>2</th>\n      <td>First Case of Zika in Miami Beach</td>\n      <td>[Miami Beach]</td>\n      <td>[]</td>\n    </tr>\n    <tr>\n      <th>3</th>\n      <td>Mystery Virus Spreads in Recife, Brazil</td>\n      <td>[Recife]</td>\n      <td>[Brazil]</td>\n    </tr>\n    <tr>\n      <th>4</th>\n      <td>Dallas man comes down with case of Zika</td>\n      <td>[Dallas]</td>\n      <td>[]</td>\n    </tr>\n    <tr>\n      <th>...</th>\n      <td>...</td>\n      <td>...</td>\n      <td>...</td>\n    </tr>\n    <tr>\n      <th>645</th>\n      <td>Rumors about Rabies spreading in Jerusalem hav...</td>\n      <td>[Jerusalem]</td>\n      <td>[]</td>\n    </tr>\n    <tr>\n      <th>646</th>\n      <td>More Zika patients reported in Indang</td>\n      <td>[Indang]</td>\n      <td>[]</td>\n    </tr>\n    <tr>\n      <th>647</th>\n      <td>Suva authorities confirmed the spread of Rotav...</td>\n      <td>[Suva]</td>\n      <td>[]</td>\n    </tr>\n    <tr>\n      <th>648</th>\n      <td>More Zika patients reported in Bella Vista</td>\n      <td>[Bella Vista]</td>\n      <td>[]</td>\n    </tr>\n    <tr>\n      <th>649</th>\n      <td>Zika Outbreak in Wichita Falls</td>\n      <td>[Wichita Falls]</td>\n      <td>[]</td>\n    </tr>\n  </tbody>\n</table>\n<p>650 rows × 3 columns</p>\n</div>"
     },
     "execution_count": 4,
     "metadata": {},
     "output_type": "execute_result"
    }
   ],
   "source": [
    "import locationextract.location_extract as le\n",
    "city = le.create_city_finder()\n",
    "country = le.create_country_finder()\n",
    "df[\"Cities\"] = df[\"Headline\"].apply(lambda x: city.find(x))\n",
    "df[\"Country\"] = df[\"Headline\"].apply(lambda x: country.find(x))\n",
    "df"
   ]
  }
 ],
 "metadata": {
  "kernelspec": {
   "display_name": "disease",
   "language": "python",
   "name": "disease"
  },
  "language_info": {
   "codemirror_mode": {
    "name": "ipython",
    "version": 3
   },
   "file_extension": ".py",
   "mimetype": "text/x-python",
   "name": "python",
   "nbconvert_exporter": "python",
   "pygments_lexer": "ipython3",
   "version": "3.8.6"
  }
 },
 "nbformat": 4,
 "nbformat_minor": 1
}